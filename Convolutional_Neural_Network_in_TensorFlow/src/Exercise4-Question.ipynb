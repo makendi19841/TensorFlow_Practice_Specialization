{
 "cells": [
  {
   "cell_type": "markdown",
   "metadata": {
    "colab_type": "text",
    "id": "UncprnB0ymAE"
   },
   "source": [
    "Below is code with a link to a happy or sad dataset which contains 80 images, 40 happy and 40 sad. \n",
    "Create a convolutional neural network that trains to 100% accuracy on these images,  which cancels training upon hitting training accuracy of >.999\n",
    "\n",
    "Hint -- it will work best with 3 convolutional layers."
   ]
  },
  {
   "cell_type": "code",
   "execution_count": 10,
   "metadata": {},
   "outputs": [],
   "source": [
    "import tensorflow as tf\n",
    "import os\n",
    "import zipfile\n",
    "from os import path, getcwd, chdir\n",
    "\n",
    "# DO NOT CHANGE THE LINE BELOW. If you are developing in a local\n",
    "# environment, then grab happy-or-sad.zip from the Coursera Jupyter Notebook\n",
    "# and place it inside a local folder and edit the path to that location\n",
    "path = f\"{getcwd()}/../tmp2/happy-or-sad.zip\"\n",
    "\n",
    "zip_ref = zipfile.ZipFile(path, 'r')\n",
    "zip_ref.extractall(\"/tmp/h-or-s\")\n",
    "zip_ref.close()"
   ]
  },
  {
   "cell_type": "code",
   "execution_count": 26,
   "metadata": {},
   "outputs": [],
   "source": [
    "# GRADED FUNCTION: train_happy_sad_model\n",
    "def train_happy_sad_model():\n",
    "    # Please write your code only where you are indicated.\n",
    "    # please do not remove # model fitting inline comments.\n",
    "\n",
    "    DESIRED_ACCURACY = 0.999\n",
    "    \n",
    "    # Your Code\n",
    "    class myCallback(tf.keras.callbacks.Callback):\n",
    "        def on_epoch_end(self, epoch, logs={}):\n",
    "            if(logs.get('acc') > 0.999):\n",
    "                print(\"\\nReached 99.9% accuracy so cancelling training!\")\n",
    "                self.model_stop_training = True\n",
    "         \n",
    "            \n",
    "\n",
    "    callbacks = myCallback()\n",
    "    \n",
    "    # This Code Block should Define and Compile the Model. Please assume the images are 150 X 150 in your implementation.\n",
    "    model = tf.keras.models.Sequential([\n",
    "        # Your Code Here\n",
    "        tf.keras.layers.Conv2D(16, (3,3), activation='relu', input_shape=(150, 150, 3)),\n",
    "        tf.keras.layers.MaxPooling2D(2,2),\n",
    "        tf.keras.layers.Conv2D(32, (3,3), activation ='relu'),\n",
    "        tf.keras.layers.MaxPooling2D(2,2),\n",
    "        tf.keras.layers.Conv2D(64, (3,3), activation='relu'),\n",
    "        tf.keras.layers.MaxPooling2D(2,2),\n",
    "        \n",
    "        tf.keras.layers.Flatten(),\n",
    "        tf.keras.layers.Dense(512, activation='relu'),\n",
    "        tf.keras.layers.Dense(1, activation='sigmoid')\n",
    "        \n",
    "        \n",
    "    ])\n",
    "    \n",
    "    #model.summary()\n",
    "    \n",
    "    from tensorflow.keras.optimizers import RMSprop\n",
    "\n",
    "    model.compile(loss='binary_crossentropy',\n",
    "                  optimizer=RMSprop(lr=0.001),\n",
    "                  metrics=['accuracy'])\n",
    "        \n",
    "\n",
    "    # This code block should create an instance of an ImageDataGenerator called train_datagen \n",
    "    # And a train_generator by calling train_datagen.flow_from_directory\n",
    "\n",
    "    from tensorflow.keras.preprocessing.image import ImageDataGenerator\n",
    "\n",
    "    # Your Code Here\n",
    "    train_datagen = ImageDataGenerator(rescale = 1./255) \n",
    "\n",
    "    # Please use a target_size of 150 X 150.\n",
    "    # Your Code Here\n",
    "    train_generator = train_datagen.flow_from_directory(\n",
    "        '/tmp/h-or-s/',\n",
    "        target_size =(150, 150),\n",
    "        batch_size =64,\n",
    "        class_mode = 'binary'      \n",
    "       )\n",
    "    # Expected output: 'Found 80 images belonging to 2 classes'\n",
    "\n",
    "    # This code block should call model.fit_generator and train for\n",
    "    # a number of epochs.\n",
    "    # model fitting\n",
    "    # Your Code Here\n",
    "    history = model.fit_generator(\n",
    "        train_generator, \n",
    "        epochs=25, \n",
    "        callbacks=[callbacks]\n",
    "    )\n",
    "    # model fitting\n",
    "    return history.history['acc'][-1]"
   ]
  },
  {
   "cell_type": "code",
   "execution_count": 27,
   "metadata": {},
   "outputs": [
    {
     "name": "stdout",
     "output_type": "stream",
     "text": [
      "Found 80 images belonging to 2 classes.\n",
      "Epoch 1/25\n",
      "2/2 [==============================] - 2s 1s/step - loss: 10.0324 - acc: 0.4000\n",
      "Epoch 2/25\n",
      "2/2 [==============================] - 0s 195ms/step - loss: 0.7832 - acc: 0.5000\n",
      "Epoch 3/25\n",
      "2/2 [==============================] - 0s 191ms/step - loss: 0.7068 - acc: 0.4750\n",
      "Epoch 4/25\n",
      "2/2 [==============================] - 0s 161ms/step - loss: 0.8233 - acc: 0.5500\n",
      "Epoch 5/25\n",
      "2/2 [==============================] - 0s 190ms/step - loss: 0.6190 - acc: 0.5500\n",
      "Epoch 6/25\n",
      "2/2 [==============================] - 0s 157ms/step - loss: 0.6328 - acc: 0.5250\n",
      "Epoch 7/25\n",
      "2/2 [==============================] - 0s 234ms/step - loss: 0.7487 - acc: 0.4750\n",
      "Epoch 8/25\n",
      "2/2 [==============================] - 0s 153ms/step - loss: 0.3961 - acc: 0.7875\n",
      "Epoch 9/25\n",
      "2/2 [==============================] - 0s 194ms/step - loss: 0.2402 - acc: 0.9375\n",
      "Epoch 10/25\n",
      "2/2 [==============================] - 0s 199ms/step - loss: 0.3641 - acc: 0.7500\n",
      "Epoch 11/25\n",
      "2/2 [==============================] - 0s 199ms/step - loss: 0.3022 - acc: 0.8750\n",
      "Epoch 12/25\n",
      "2/2 [==============================] - 0s 158ms/step - loss: 0.1593 - acc: 0.9500\n",
      "Epoch 13/25\n",
      "2/2 [==============================] - 0s 193ms/step - loss: 0.1404 - acc: 0.9375\n",
      "Epoch 14/25\n",
      "2/2 [==============================] - 0s 208ms/step - loss: 0.0973 - acc: 0.9625\n",
      "Epoch 15/25\n",
      "2/2 [==============================] - 0s 193ms/step - loss: 0.0912 - acc: 0.9500\n",
      "Epoch 16/25\n",
      "2/2 [==============================] - 0s 194ms/step - loss: 0.1616 - acc: 0.9875\n",
      "Epoch 17/25\n",
      "2/2 [==============================] - 0s 198ms/step - loss: 0.0846 - acc: 0.9375\n",
      "Epoch 18/25\n",
      "2/2 [==============================] - 0s 195ms/step - loss: 0.1428 - acc: 0.9500\n",
      "Epoch 19/25\n",
      "1/2 [==============>...............] - ETA: 0s - loss: 0.0896 - acc: 1.0000\n",
      "Reached 99.9% accuracy so cancelling training!\n",
      "2/2 [==============================] - 0s 156ms/step - loss: 0.0555 - acc: 1.0000\n",
      "Epoch 20/25\n",
      "2/2 [==============================] - 0s 196ms/step - loss: 0.0892 - acc: 0.9500\n",
      "Epoch 21/25\n",
      "2/2 [==============================] - 0s 196ms/step - loss: 0.0596 - acc: 0.9625\n",
      "Epoch 22/25\n",
      "2/2 [==============================] - 0s 196ms/step - loss: 0.0679 - acc: 0.9500\n",
      "Epoch 23/25\n",
      "1/2 [==============>...............] - ETA: 0s - loss: 0.0323 - acc: 1.0000\n",
      "Reached 99.9% accuracy so cancelling training!\n",
      "2/2 [==============================] - 0s 155ms/step - loss: 0.0320 - acc: 1.0000\n",
      "Epoch 24/25\n",
      "1/2 [==============>...............] - ETA: 0s - loss: 0.0222 - acc: 1.0000\n",
      "Reached 99.9% accuracy so cancelling training!\n",
      "2/2 [==============================] - 0s 192ms/step - loss: 0.0281 - acc: 1.0000\n",
      "Epoch 25/25\n",
      "2/2 [==============================] - 0s 198ms/step - loss: 0.0999 - acc: 0.9500\n"
     ]
    },
    {
     "data": {
      "text/plain": [
       "0.95"
      ]
     },
     "execution_count": 27,
     "metadata": {},
     "output_type": "execute_result"
    }
   ],
   "source": [
    "# The Expected output: \"Reached 99.9% accuracy so cancelling training!\"\"\n",
    "train_happy_sad_model()"
   ]
  },
  {
   "cell_type": "code",
   "execution_count": 28,
   "metadata": {},
   "outputs": [],
   "source": [
    "# Now click the 'Submit Assignment' button above.\n",
    "# Once that is complete, please run the following two cells to save your work and close the notebook"
   ]
  },
  {
   "cell_type": "code",
   "execution_count": null,
   "metadata": {},
   "outputs": [],
   "source": [
    "%%javascript\n",
    "<!-- Save the notebook -->\n",
    "IPython.notebook.save_checkpoint();"
   ]
  },
  {
   "cell_type": "code",
   "execution_count": null,
   "metadata": {},
   "outputs": [],
   "source": [
    "%%javascript\n",
    "IPython.notebook.session.delete();\n",
    "window.onbeforeunload = null\n",
    "setTimeout(function() { window.close(); }, 1000);"
   ]
  }
 ],
 "metadata": {
  "coursera": {
   "course_slug": "introduction-tensorflow",
   "graded_item_id": "1kAlw",
   "launcher_item_id": "PNLYD"
  },
  "kernelspec": {
   "display_name": "Python 3",
   "language": "python",
   "name": "python3"
  },
  "language_info": {
   "codemirror_mode": {
    "name": "ipython",
    "version": 3
   },
   "file_extension": ".py",
   "mimetype": "text/x-python",
   "name": "python",
   "nbconvert_exporter": "python",
   "pygments_lexer": "ipython3",
   "version": "3.6.8"
  }
 },
 "nbformat": 4,
 "nbformat_minor": 1
}
