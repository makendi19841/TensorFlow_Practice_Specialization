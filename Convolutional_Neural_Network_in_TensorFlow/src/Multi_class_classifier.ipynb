{
 "cells": [
  {
   "cell_type": "code",
   "execution_count": 1,
   "metadata": {
    "colab": {},
    "colab_type": "code",
    "id": "wYtuKeK0dImp"
   },
   "outputs": [],
   "source": [
    "# ATTENTION: Please do not alter any of the provided code in the exercise. Only add your own code where indicated\n",
    "# ATTENTION: Please do not add or remove any cells in the exercise. The grader will check specific cells based on the cell position.\n",
    "# ATTENTION: Please use the provided epoch values when training.\n",
    "\n",
    "import csv\n",
    "import numpy as np\n",
    "import tensorflow as tf\n",
    "from tensorflow.keras.preprocessing.image import ImageDataGenerator\n",
    "from os import getcwd"
   ]
  },
  {
   "cell_type": "code",
   "execution_count": 2,
   "metadata": {
    "colab": {},
    "colab_type": "code",
    "id": "4kxw-_rmcnVu"
   },
   "outputs": [
    {
     "name": "stdout",
     "output_type": "stream",
     "text": [
      "(27455, 28, 28)\n",
      "(27455,)\n",
      "(7172, 28, 28)\n",
      "(7172,)\n"
     ]
    }
   ],
   "source": [
    "def get_data(filename):\n",
    "  # You will need to write code that will read the file passed\n",
    "  # into this function. The first line contains the column headers\n",
    "  # so you should ignore it\n",
    "  # Each successive line contians 785 comma separated values between 0 and 255\n",
    "  # The first value is the label\n",
    "  # The rest are the pixel values for that picture\n",
    "  # The function will return 2 np.array types. One with all the labels\n",
    "  # One with all the images\n",
    "  #\n",
    "  # Tips: \n",
    "  # If you read a full line (as 'row') then row[0] has the label\n",
    "  # and row[1:785] has the 784 pixel values\n",
    "  # Take a look at np.array_split to turn the 784 pixels into 28x28\n",
    "  # You are reading in strings, but need the values to be floats\n",
    "  # Check out np.array().astype for a conversion\n",
    "    with open(filename) as training_file:\n",
    "        # skip the first row\n",
    "        next(training_file)\n",
    "        # read all the column names\n",
    "        training_file = csv.reader(training_file, delimiter=',')\n",
    "        images = []\n",
    "        labels = []\n",
    "        # iterate throughout the row to get both label and image\n",
    "        #row = 1\n",
    "        for row in training_file:\n",
    "            #store label for each table row\n",
    "            labels.append(row[0])\n",
    "            # get all pixels \n",
    "            pix_values = np.array(row[1:])\n",
    "            # convert pixel values into float\n",
    "            #pix_values_new = pix_values.astype(np.float32)\n",
    "            # turn pixel values into images: np.array_split()\n",
    "            image = np.reshape(pix_values, (28,28))\n",
    "            # store defined image for each table row\n",
    "            images.append(image)\n",
    "            # all in one line\n",
    "            #images.append(row[1:].astype(float).np.reshape(28,28))\n",
    "        images = np.array(images).astype(np.float32)\n",
    "        labels = np.array(labels).astype(np.float32)\n",
    "            \n",
    "        \n",
    "      # Your code starts here \n",
    "      # Your code ends here\n",
    "    return images, labels\n",
    "\n",
    "path_sign_mnist_train = f\"{getcwd()}/../tmp2/sign_mnist_train.csv\"\n",
    "path_sign_mnist_test = f\"{getcwd()}/../tmp2/sign_mnist_test.csv\"\n",
    "training_images, training_labels = get_data(path_sign_mnist_train)\n",
    "testing_images, testing_labels = get_data(path_sign_mnist_test)\n",
    "\n",
    "# Keep these\n",
    "print(training_images.shape)\n",
    "print(training_labels.shape)\n",
    "print(testing_images.shape)\n",
    "print(testing_labels.shape)\n",
    "\n",
    "# Their output should be:\n",
    "# (27455, 28, 28)\n",
    "# (27455,)\n",
    "# (7172, 28, 28)\n",
    "# (7172,)"
   ]
  },
  {
   "cell_type": "code",
   "execution_count": 3,
   "metadata": {
    "colab": {},
    "colab_type": "code",
    "id": "awoqRpyZdQkD"
   },
   "outputs": [
    {
     "name": "stdout",
     "output_type": "stream",
     "text": [
      "(27455, 28, 28, 1)\n",
      "(7172, 28, 28, 1)\n"
     ]
    }
   ],
   "source": [
    "# In this section you will have to add another dimension to the data\n",
    "# So, for example, if your array is (10000, 28, 28)\n",
    "# You will need to make it (10000, 28, 28, 1)\n",
    "# Hint: np.expand_dims\n",
    "\n",
    "training_images = np.expand_dims(training_images, axis=3)# Your Code Here\n",
    "testing_images =  np.expand_dims(testing_images, axis=3)# Your Code Here\n",
    "\n",
    "# Create an ImageDataGenerator and do Image Augmentation\n",
    "train_datagen = ImageDataGenerator(rescale=1./255,\n",
    "                                  rotation_range=40,\n",
    "                                  width_shift_range=0.2,\n",
    "                                  height_shift_range=0.2,\n",
    "                                  shear_range=0.2,\n",
    "                                  zoom_range=0.2,\n",
    "                                  horizontal_flip=True,\n",
    "                                  fill_mode='nearest')\n",
    "\n",
    "validation_datagen = ImageDataGenerator(rescale=1./255)\n",
    "\n",
    "\n",
    "train_generator = train_datagen.flow(training_images, training_labels, batch_size=64)\n",
    "validation_generator = validation_datagen.flow(testing_images, testing_labels, batch_size=64)\n",
    "    \n",
    "# Keep These\n",
    "print(training_images.shape)\n",
    "print(testing_images.shape)\n",
    "    \n",
    "# Their output should be:\n",
    "# (27455, 28, 28, 1)\n",
    "# (7172, 28, 28, 1)"
   ]
  },
  {
   "cell_type": "code",
   "execution_count": 4,
   "metadata": {
    "colab": {},
    "colab_type": "code",
    "id": "Rmb7S32cgRqS"
   },
   "outputs": [
    {
     "name": "stdout",
     "output_type": "stream",
     "text": [
      "Epoch 1/15\n",
      "429/429 [==============================] - 46s 107ms/step - loss: 2.8138 - accuracy: 0.1522 - val_loss: 2.0800 - val_accuracy: 0.3302\n",
      "Epoch 2/15\n",
      "429/429 [==============================] - 42s 98ms/step - loss: 2.0927 - accuracy: 0.3427 - val_loss: 1.3300 - val_accuracy: 0.5721\n",
      "Epoch 3/15\n",
      "429/429 [==============================] - 42s 98ms/step - loss: 1.7049 - accuracy: 0.4556 - val_loss: 1.0985 - val_accuracy: 0.6032\n",
      "Epoch 4/15\n",
      "429/429 [==============================] - 43s 100ms/step - loss: 1.4383 - accuracy: 0.5376 - val_loss: 0.8675 - val_accuracy: 0.6796\n",
      "Epoch 5/15\n",
      "429/429 [==============================] - 42s 98ms/step - loss: 1.2362 - accuracy: 0.5981 - val_loss: 0.8206 - val_accuracy: 0.7071\n",
      "Epoch 6/15\n",
      "429/429 [==============================] - 43s 101ms/step - loss: 1.1055 - accuracy: 0.6376 - val_loss: 0.6844 - val_accuracy: 0.7697\n",
      "Epoch 7/15\n",
      "429/429 [==============================] - 43s 99ms/step - loss: 0.9857 - accuracy: 0.6724 - val_loss: 0.5577 - val_accuracy: 0.8073\n",
      "Epoch 8/15\n",
      "429/429 [==============================] - 43s 101ms/step - loss: 0.9010 - accuracy: 0.7038 - val_loss: 0.5201 - val_accuracy: 0.8116\n",
      "Epoch 9/15\n",
      "429/429 [==============================] - 43s 100ms/step - loss: 0.8135 - accuracy: 0.7328 - val_loss: 0.4110 - val_accuracy: 0.8509\n",
      "Epoch 10/15\n",
      "429/429 [==============================] - 42s 97ms/step - loss: 0.7517 - accuracy: 0.7532 - val_loss: 0.3852 - val_accuracy: 0.8696\n",
      "Epoch 11/15\n",
      "429/429 [==============================] - 42s 97ms/step - loss: 0.7048 - accuracy: 0.7692 - val_loss: 0.3392 - val_accuracy: 0.8836\n",
      "Epoch 12/15\n",
      "429/429 [==============================] - 43s 100ms/step - loss: 0.6456 - accuracy: 0.7866 - val_loss: 0.3138 - val_accuracy: 0.9034\n",
      "Epoch 13/15\n",
      "429/429 [==============================] - 42s 98ms/step - loss: 0.6201 - accuracy: 0.7964 - val_loss: 0.4065 - val_accuracy: 0.8603\n",
      "Epoch 14/15\n",
      "429/429 [==============================] - 43s 101ms/step - loss: 0.5725 - accuracy: 0.8094 - val_loss: 0.2759 - val_accuracy: 0.8967\n",
      "Epoch 15/15\n",
      "429/429 [==============================] - 43s 99ms/step - loss: 0.5271 - accuracy: 0.8266 - val_loss: 0.3062 - val_accuracy: 0.8911\n"
     ]
    },
    {
     "data": {
      "text/plain": [
       "[93.04023510772824, 0.75766873]"
      ]
     },
     "execution_count": 4,
     "metadata": {},
     "output_type": "execute_result"
    }
   ],
   "source": [
    "# Define the model\n",
    "# Use no more than 2 Conv2D and 2 MaxPooling2D\n",
    "model = tf.keras.models.Sequential([\n",
    "    # Your Code Here\n",
    "    tf.keras.layers.Conv2D(32, (3,3), activation='relu', input_shape=(28, 28, 1)),\n",
    "    tf.keras.layers.MaxPooling2D(2, 2),\n",
    "    tf.keras.layers.Conv2D(32, (3,3), activation='relu'),\n",
    "    tf.keras.layers.MaxPooling2D(2, 2),\n",
    "    tf.keras.layers.Flatten(),\n",
    "    tf.keras.layers.Dense(512, activation='relu'),\n",
    "    tf.keras.layers.Dense(26, activation='softmax') \n",
    "    \n",
    "])\n",
    "\n",
    "# Compile Model. \n",
    "model.compile(loss='sparse_categorical_crossentropy', optimizer='adam', metrics=['accuracy'])\n",
    "\n",
    "# Train the Model\n",
    "history = model.fit_generator(train_generator, epochs=15, validation_data=validation_generator)\n",
    "\n",
    "model.evaluate(testing_images, testing_labels, verbose=0)"
   ]
  },
  {
   "cell_type": "code",
   "execution_count": 5,
   "metadata": {
    "colab": {},
    "colab_type": "code",
    "id": "_Q3Zpr46dsij"
   },
   "outputs": [
    {
     "data": {
      "image/png": "[encoded data removed]",
      "text/plain": [
       "<Figure size 432x288 with 1 Axes>"
      ]
     },
     "metadata": {
      "needs_background": "light"
     },
     "output_type": "display_data"
    },
    {
     "data": {
      "image/png": "[encoded data removed]",
      "text/plain": [
       "<Figure size 432x288 with 1 Axes>"
      ]
     },
     "metadata": {
      "needs_background": "light"
     },
     "output_type": "display_data"
    }
   ],
   "source": [
    "# Plot the chart for accuracy and loss on both training and validation\n",
    "%matplotlib inline\n",
    "import matplotlib.pyplot as plt\n",
    "acc = history.history['accuracy']\n",
    "val_acc = history.history['val_accuracy']\n",
    "loss = history.history['loss']\n",
    "val_loss = history.history['val_loss']\n",
    "\n",
    "epochs = range(len(acc))\n",
    "\n",
    "plt.plot(epochs, acc, 'r', label='Training accuracy')\n",
    "plt.plot(epochs, val_acc, 'b', label='Validation accuracy')\n",
    "plt.title('Training and validation accuracy')\n",
    "plt.legend()\n",
    "plt.figure()\n",
    "\n",
    "plt.plot(epochs, loss, 'r', label='Training Loss')\n",
    "plt.plot(epochs, val_loss, 'b', label='Validation Loss')\n",
    "plt.title('Training and validation loss')\n",
    "plt.legend()\n",
    "\n",
    "plt.show()"
   ]
  },
  {
   "cell_type": "markdown",
   "metadata": {},
   "source": [
    "# Submission Instructions"
   ]
  },
  {
   "cell_type": "code",
   "execution_count": null,
   "metadata": {},
   "outputs": [],
   "source": [
    "# Now click the 'Submit Assignment' button above."
   ]
  },
  {
   "cell_type": "markdown",
   "metadata": {},
   "source": [
    "# When you're done or would like to take a break, please run the two cells below to save your work and close the Notebook. This will free up resources for your fellow learners. "
   ]
  },
  {
   "cell_type": "code",
   "execution_count": null,
   "metadata": {},
   "outputs": [],
   "source": [
    "%%javascript\n",
    "<!-- Save the notebook -->\n",
    "IPython.notebook.save_checkpoint();"
   ]
  },
  {
   "cell_type": "code",
   "execution_count": null,
   "metadata": {},
   "outputs": [],
   "source": [
    "%%javascript\n",
    "IPython.notebook.session.delete();\n",
    "window.onbeforeunload = null\n",
    "setTimeout(function() { window.close(); }, 1000);"
   ]
  }
 ],
 "metadata": {
  "colab": {
   "name": "Exercise 8 - Question.ipynb",
   "provenance": []
  },
  "coursera": {
   "course_slug": "convolutional-neural-networks-tensorflow",
   "graded_item_id": "8mIh8",
   "launcher_item_id": "gg95t"
  },
  "kernelspec": {
   "display_name": "Python 3",
   "language": "python",
   "name": "python3"
  },
  "language_info": {
   "codemirror_mode": {
    "name": "ipython",
    "version": 3
   },
   "file_extension": ".py",
   "mimetype": "text/x-python",
   "name": "python",
   "nbconvert_exporter": "python",
   "pygments_lexer": "ipython3",
   "version": "3.6.8"
  }
 },
 "nbformat": 4,
 "nbformat_minor": 1
}
